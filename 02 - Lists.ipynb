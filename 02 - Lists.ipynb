{
 "cells": [
  {
   "cell_type": "markdown",
   "metadata": {},
   "source": [
    "This notebook is based on [Python Cheat Sheet](http://ehmatthes.github.io/pcc/cheatsheets/README.html) by [Eric Matthes](https://github.com/ehmatthes)"
   ]
  },
  {
   "cell_type": "markdown",
   "metadata": {},
   "source": [
    "## Lists\n",
    "\n",
    "### What are Lists? \n",
    "A list stores a series of items in a particular order. Lists allow you to store sets of information in one place, whether you have just a few items or millions of items. Lists are one of Python's most powerful features readily accessible to new programmers, and they tie together many important concepts in programming."
   ]
  },
  {
   "cell_type": "markdown",
   "metadata": {},
   "source": [
    "### Defining a list\n",
    "Use square brackets to define a list, and use commas to separate individual items in the list. Use plural names for lists, to make your code easier to read."
   ]
  },
  {
   "cell_type": "code",
   "execution_count": 1,
   "metadata": {},
   "outputs": [
    {
     "name": "stdout",
     "output_type": "stream",
     "text": [
      "['val', 'bob', 'mia', 'ron', 'ned']\n"
     ]
    }
   ],
   "source": [
    "# Making a list\n",
    "users = ['val', 'bob', 'mia', 'ron', 'ned']\n",
    "\n",
    "print(users)"
   ]
  },
  {
   "cell_type": "markdown",
   "metadata": {},
   "source": [
    "### Accessing elements\n",
    "Individual elements in a list are accessed according to their position, called the index. The index of the first element is 0, the index of the second element is 1, and so forth. Negative indices refer to items at the end of the list. To get a particular element, write the name of the list and then the index of the element in square brackets."
   ]
  },
  {
   "cell_type": "code",
   "execution_count": 2,
   "metadata": {},
   "outputs": [
    {
     "name": "stdout",
     "output_type": "stream",
     "text": [
      "val\n"
     ]
    }
   ],
   "source": [
    "# Getting the first element\n",
    "first_user = users[0]\n",
    "\n",
    "print(first_user)"
   ]
  },
  {
   "cell_type": "code",
   "execution_count": 3,
   "metadata": {},
   "outputs": [
    {
     "name": "stdout",
     "output_type": "stream",
     "text": [
      "bob\n"
     ]
    }
   ],
   "source": [
    "# Getting the second element\n",
    "second_user = users[1]\n",
    "\n",
    "print(second_user)"
   ]
  },
  {
   "cell_type": "code",
   "execution_count": 4,
   "metadata": {},
   "outputs": [
    {
     "name": "stdout",
     "output_type": "stream",
     "text": [
      "ned\n"
     ]
    }
   ],
   "source": [
    "# Getting the last element\n",
    "newest_user = users[-1]\n",
    "\n",
    "print(newest_user)"
   ]
  },
  {
   "cell_type": "markdown",
   "metadata": {},
   "source": [
    "### Modifying individual items\n",
    "Once you've defined a list, you can change individual elements in the list. You do this by referring to the index of the item you want to modify."
   ]
  },
  {
   "cell_type": "code",
   "execution_count": 5,
   "metadata": {},
   "outputs": [
    {
     "name": "stdout",
     "output_type": "stream",
     "text": [
      "['valerie', 'bob', 'mia', 'ronald', 'ned']\n"
     ]
    }
   ],
   "source": [
    "# Changing an element\n",
    "users[0]= 'valerie'\n",
    "users[-2] = 'ronald'\n",
    "\n",
    "print(users)"
   ]
  },
  {
   "cell_type": "markdown",
   "metadata": {},
   "source": [
    "### Adding elements\n",
    "You can add elements to the end of a list, or you can insert them wherever you like in a list."
   ]
  },
  {
   "cell_type": "code",
   "execution_count": 6,
   "metadata": {},
   "outputs": [
    {
     "name": "stdout",
     "output_type": "stream",
     "text": [
      "['valerie', 'bob', 'mia', 'ronald', 'ned', 'amy']\n"
     ]
    }
   ],
   "source": [
    "# Adding an element to the end of the list\n",
    "users.append('amy')\n",
    "\n",
    "print(users)"
   ]
  },
  {
   "cell_type": "code",
   "execution_count": 7,
   "metadata": {},
   "outputs": [
    {
     "name": "stdout",
     "output_type": "stream",
     "text": [
      "['val', 'bob', 'mia']\n"
     ]
    }
   ],
   "source": [
    "# Starting with an empty list\n",
    "users = []\n",
    "users.append('val')\n",
    "users.append('bob')\n",
    "users.append('mia')\n",
    "\n",
    "print(users)"
   ]
  },
  {
   "cell_type": "code",
   "execution_count": 8,
   "metadata": {},
   "outputs": [
    {
     "name": "stdout",
     "output_type": "stream",
     "text": [
      "['joe', 'val', 'bob', 'mia']\n",
      "['joe', 'val', 'bob', 'bea', 'mia']\n"
     ]
    }
   ],
   "source": [
    "# Inserting elements at a particular position\n",
    "users.insert(0, 'joe')\n",
    "print(users)\n",
    "\n",
    "users.insert(3, 'bea')\n",
    "print(users)"
   ]
  },
  {
   "cell_type": "markdown",
   "metadata": {},
   "source": [
    "### Removing elements\n",
    "You can remove elements by their position in a list, or by the value of the item. If you remove an item by its value, Python removes only the first item that has that value."
   ]
  },
  {
   "cell_type": "code",
   "execution_count": 9,
   "metadata": {},
   "outputs": [
    {
     "name": "stdout",
     "output_type": "stream",
     "text": [
      "['joe', 'val', 'bob', 'bea']\n"
     ]
    }
   ],
   "source": [
    "# Deleting an element by its position\n",
    "del users[-1]\n",
    "\n",
    "print(users)"
   ]
  },
  {
   "cell_type": "code",
   "execution_count": 10,
   "metadata": {},
   "outputs": [
    {
     "name": "stdout",
     "output_type": "stream",
     "text": [
      "['joe', 'bob', 'bea']\n"
     ]
    }
   ],
   "source": [
    "# Removing an item by its value\n",
    "users.remove('val')\n",
    "\n",
    "print(users)"
   ]
  },
  {
   "cell_type": "markdown",
   "metadata": {},
   "source": [
    "### Popping elements\n",
    "If you want to work with an element that you're removing from the list, you can \"pop\" the element. If you think of the list as a stack of items, pop() takes an item off the top of the stack. By default pop() returns the last element in the list, but you can also pop elements from any position in the lists."
   ]
  },
  {
   "cell_type": "code",
   "execution_count": 11,
   "metadata": {},
   "outputs": [
    {
     "name": "stdout",
     "output_type": "stream",
     "text": [
      "bea\n",
      "['joe', 'bob']\n"
     ]
    }
   ],
   "source": [
    "# Pop the last item from a list\n",
    "most_recent_user = users.pop()\n",
    "\n",
    "print(most_recent_user)\n",
    "print(users)"
   ]
  },
  {
   "cell_type": "code",
   "execution_count": 12,
   "metadata": {},
   "outputs": [
    {
     "name": "stdout",
     "output_type": "stream",
     "text": [
      "joe\n",
      "['bob']\n"
     ]
    }
   ],
   "source": [
    "# Pop the first item in a list\n",
    "first_user = users.pop(0)\n",
    "\n",
    "print(first_user)\n",
    "print(users)"
   ]
  },
  {
   "cell_type": "markdown",
   "metadata": {},
   "source": [
    "### List length\n",
    "The len() function returns the number of items in a list."
   ]
  },
  {
   "cell_type": "code",
   "execution_count": 13,
   "metadata": {},
   "outputs": [
    {
     "name": "stdout",
     "output_type": "stream",
     "text": [
      "We have 5 users.\n"
     ]
    }
   ],
   "source": [
    "# Find the length of a list\n",
    "users = ['val', 'bob', 'mia', 'ron', 'ned']\n",
    "\n",
    "num_users = len(users)\n",
    "print(\"We have \" + str(num_users) + \" users.\")"
   ]
  },
  {
   "cell_type": "markdown",
   "metadata": {},
   "source": [
    "### Sorting a list\n",
    "The sort() method changes the order of a list permanently. The sorted() function returns a copy of the list, leaving the original list unchanged. You can sort the items in a list in alphabetical order, or reverse alphabetical order. You can also reverse the original order of the list. Keep in mind that lowercase and uppercase letters may affect the sort order."
   ]
  },
  {
   "cell_type": "code",
   "execution_count": 14,
   "metadata": {},
   "outputs": [
    {
     "name": "stdout",
     "output_type": "stream",
     "text": [
      "['bob', 'mia', 'ned', 'ron', 'val']\n"
     ]
    }
   ],
   "source": [
    "# Sorting a list permanently\n",
    "users.sort()\n",
    "\n",
    "print(users)"
   ]
  },
  {
   "cell_type": "code",
   "execution_count": 15,
   "metadata": {},
   "outputs": [
    {
     "name": "stdout",
     "output_type": "stream",
     "text": [
      "['val', 'ron', 'ned', 'mia', 'bob']\n"
     ]
    }
   ],
   "source": [
    "# Sorting a list permanently in reverse alphabetical order\n",
    "users.sort(reverse=True)\n",
    "\n",
    "print(users)"
   ]
  },
  {
   "cell_type": "code",
   "execution_count": 16,
   "metadata": {},
   "outputs": [
    {
     "name": "stdout",
     "output_type": "stream",
     "text": [
      "['bob', 'mia', 'ned', 'ron', 'val']\n",
      "['val', 'ron', 'ned', 'mia', 'bob']\n",
      "['val', 'bob', 'mia', 'ron', 'ned']\n"
     ]
    }
   ],
   "source": [
    "# Sorting a list temporarily\n",
    "users = ['val', 'bob', 'mia', 'ron', 'ned']\n",
    "\n",
    "print(sorted(users))\n",
    "print(sorted(users, reverse=True))\n",
    "print(users)"
   ]
  },
  {
   "cell_type": "code",
   "execution_count": 17,
   "metadata": {},
   "outputs": [
    {
     "name": "stdout",
     "output_type": "stream",
     "text": [
      "['ned', 'ron', 'mia', 'bob', 'val']\n"
     ]
    }
   ],
   "source": [
    "# Reversing the order of a list\n",
    "\n",
    "users.reverse()\n",
    "\n",
    "print(users)"
   ]
  },
  {
   "cell_type": "markdown",
   "metadata": {},
   "source": [
    "### Looping through a list\n",
    "Lists can contain millions of items, so Python provides an efficient way to loop through all the items in a list. When you set up a loop, Python pulls each item from the list one at a time and stores it in a temporary variable, which you provide a name for. This name should be the singular version of the list name.\n",
    "The indented block of code makes up the body of the loop, where you can work with each individual item. Any lines that are not indented run after the loop is completed."
   ]
  },
  {
   "cell_type": "code",
   "execution_count": 18,
   "metadata": {},
   "outputs": [
    {
     "name": "stdout",
     "output_type": "stream",
     "text": [
      "ned\n",
      "ron\n",
      "mia\n",
      "bob\n",
      "val\n"
     ]
    }
   ],
   "source": [
    "# Printing all items in a list\n",
    "for user in users:\n",
    "    print(user)"
   ]
  },
  {
   "cell_type": "code",
   "execution_count": 19,
   "metadata": {},
   "outputs": [
    {
     "name": "stdout",
     "output_type": "stream",
     "text": [
      "Welcome, ned!\n",
      "Welcome, ron!\n",
      "Welcome, mia!\n",
      "Welcome, bob!\n",
      "Welcome, val!\n",
      "Welcome, we're glad to see you all!\n"
     ]
    }
   ],
   "source": [
    "# Printing a message for each item, and a separate message afterwards\n",
    "for user in users:\n",
    "    print(\"Welcome, \" + user + \"!\")\n",
    "    \n",
    "print(\"Welcome, we're glad to see you all!\")"
   ]
  },
  {
   "cell_type": "markdown",
   "metadata": {},
   "source": [
    "### The range() function\n",
    "You can use the range() function to work with a set of numbers efficiently. The range() function starts at 0 by default, and stops one number below the number passed to it. You can use the list() function to efficiently generate a large list of numbers."
   ]
  },
  {
   "cell_type": "code",
   "execution_count": 20,
   "metadata": {},
   "outputs": [
    {
     "name": "stdout",
     "output_type": "stream",
     "text": [
      "0\n",
      "1\n",
      "2\n",
      "3\n",
      "4\n",
      "5\n",
      "6\n",
      "7\n",
      "8\n",
      "9\n",
      "10\n"
     ]
    }
   ],
   "source": [
    "# Printing the numbers 0 to 10\n",
    "for number in range(11):\n",
    "    print(number)"
   ]
  },
  {
   "cell_type": "code",
   "execution_count": 21,
   "metadata": {},
   "outputs": [
    {
     "name": "stdout",
     "output_type": "stream",
     "text": [
      "1\n",
      "2\n",
      "3\n",
      "4\n",
      "5\n",
      "6\n",
      "7\n",
      "8\n",
      "9\n",
      "10\n"
     ]
    }
   ],
   "source": [
    "# Printing the numbers 1 to 10\n",
    "for number in range(1, 11):\n",
    "    print(number)"
   ]
  },
  {
   "cell_type": "code",
   "execution_count": 22,
   "metadata": {},
   "outputs": [
    {
     "name": "stdout",
     "output_type": "stream",
     "text": [
      "1000000\n"
     ]
    }
   ],
   "source": [
    "# Making a list of numbers from 1 to a million\n",
    "numbers = list(range(1, 1000001))\n",
    "\n",
    "print(len(numbers))"
   ]
  },
  {
   "cell_type": "markdown",
   "metadata": {},
   "source": [
    "### Simple statistics\n",
    "There are a number of simple statistics you can run on a list containing numerical data."
   ]
  },
  {
   "cell_type": "code",
   "execution_count": 23,
   "metadata": {},
   "outputs": [
    {
     "name": "stdout",
     "output_type": "stream",
     "text": [
      "1\n"
     ]
    }
   ],
   "source": [
    "# Finding the minimum value in a list\n",
    "ages = [93, 99, 66, 17, 85, 1, 35, 82, 2, 77]\n",
    "\n",
    "youngest = min(ages)\n",
    "\n",
    "print(youngest)"
   ]
  },
  {
   "cell_type": "code",
   "execution_count": 24,
   "metadata": {},
   "outputs": [
    {
     "name": "stdout",
     "output_type": "stream",
     "text": [
      "99\n"
     ]
    }
   ],
   "source": [
    "# Finding the maximum value\n",
    "oldest = max(ages)\n",
    "\n",
    "print(oldest)"
   ]
  },
  {
   "cell_type": "code",
   "execution_count": 25,
   "metadata": {},
   "outputs": [
    {
     "name": "stdout",
     "output_type": "stream",
     "text": [
      "557\n"
     ]
    }
   ],
   "source": [
    "# Finding the sum of all values\n",
    "total_years = sum(ages)\n",
    "\n",
    "print(total_years)"
   ]
  },
  {
   "cell_type": "markdown",
   "metadata": {},
   "source": [
    "### Slicing a list\n",
    "You can work with any set of elements from a list. A portion of a list is called a slice. To slice a list start with the index of the first item you want, then add a colon and the index after the last item you want. Leave off the first index to start at the beginning of the list, and leave off the last index to slice through the end of the list."
   ]
  },
  {
   "cell_type": "code",
   "execution_count": 26,
   "metadata": {},
   "outputs": [
    {
     "name": "stdout",
     "output_type": "stream",
     "text": [
      "['kai', 'abe', 'ada']\n"
     ]
    }
   ],
   "source": [
    "# Getting the first three items\n",
    "finishers = ['kai', 'abe', 'ada', 'gus', 'zoe']\n",
    "\n",
    "first_three = finishers[:3]\n",
    "\n",
    "print(first_three)"
   ]
  },
  {
   "cell_type": "code",
   "execution_count": 27,
   "metadata": {},
   "outputs": [
    {
     "name": "stdout",
     "output_type": "stream",
     "text": [
      "['abe', 'ada', 'gus']\n"
     ]
    }
   ],
   "source": [
    "# Getting the middle three items\n",
    "middle_three = finishers[1:4]\n",
    "\n",
    "print(middle_three)"
   ]
  },
  {
   "cell_type": "code",
   "execution_count": 28,
   "metadata": {},
   "outputs": [
    {
     "name": "stdout",
     "output_type": "stream",
     "text": [
      "['ada', 'gus', 'zoe']\n"
     ]
    }
   ],
   "source": [
    "# Getting the last three items\n",
    "last_three = finishers[-3:]\n",
    "\n",
    "print(last_three)"
   ]
  },
  {
   "cell_type": "markdown",
   "metadata": {},
   "source": [
    "### Copying a list\n",
    "To copy a list make a slice that starts at the first item and ends at the last item. If you try to copy a list without using this approach, whatever you do to the copied list will affect the original list as well."
   ]
  },
  {
   "cell_type": "code",
   "execution_count": 29,
   "metadata": {
    "collapsed": true
   },
   "outputs": [],
   "source": [
    "# Making a copy of a list\n",
    "finishers = ['kai', 'abe', 'ada', 'gus', 'zoe']\n",
    "copy_of_finishers = finishers[:]"
   ]
  },
  {
   "cell_type": "markdown",
   "metadata": {},
   "source": [
    "### List comprehensions\n",
    "You can use a loop to generate a list based on a range of numbers or on another list. This is a common operation, so Python offers a more efficient way to do it. List comprehensions may look complicated at first; if so, use the for loop approach until you're ready to start using comprehensions.\n",
    "To write a comprehension, define an expression for the values you want to store in the list. Then write a for loop to generate input values needed to make the list."
   ]
  },
  {
   "cell_type": "code",
   "execution_count": 30,
   "metadata": {},
   "outputs": [
    {
     "name": "stdout",
     "output_type": "stream",
     "text": [
      "[1, 4, 9, 16, 25, 36, 49, 64, 81, 100]\n"
     ]
    }
   ],
   "source": [
    "# Using a loop to generate a list of square numbers\n",
    "squares = []\n",
    "for x in range(1, 11):\n",
    "    square = x ** 2\n",
    "    squares.append(square)\n",
    "    \n",
    "print(squares)"
   ]
  },
  {
   "cell_type": "code",
   "execution_count": 31,
   "metadata": {},
   "outputs": [
    {
     "name": "stdout",
     "output_type": "stream",
     "text": [
      "[1, 4, 9, 16, 25, 36, 49, 64, 81, 100]\n"
     ]
    }
   ],
   "source": [
    "# Using a comprehension to generate a list of square numbers\n",
    "squares = [x**2 for x in range(1, 11)]\n",
    "\n",
    "print(squares)"
   ]
  },
  {
   "cell_type": "code",
   "execution_count": 32,
   "metadata": {},
   "outputs": [
    {
     "name": "stdout",
     "output_type": "stream",
     "text": [
      "['KAI', 'ABE', 'ADA', 'GUS', 'ZOE']\n"
     ]
    }
   ],
   "source": [
    "# Using a loop to convert a list of names to upper case\n",
    "names = ['kai', 'abe', 'ada', 'gus', 'zoe']\n",
    "\n",
    "upper_names = []\n",
    "for name in names:\n",
    "    upper_names.append(name.upper())\n",
    "    \n",
    "print(upper_names)"
   ]
  },
  {
   "cell_type": "code",
   "execution_count": 33,
   "metadata": {},
   "outputs": [
    {
     "name": "stdout",
     "output_type": "stream",
     "text": [
      "['KAI', 'ABE', 'ADA', 'GUS', 'ZOE']\n"
     ]
    }
   ],
   "source": [
    "# Using a comprehension to convert a list of names to upper case\n",
    "upper_names = [name.upper() for name in names]\n",
    "\n",
    "print(upper_names)"
   ]
  },
  {
   "cell_type": "markdown",
   "metadata": {},
   "source": [
    "### Tuples\n",
    "A tuple is like a list, except you can't change the values in a tuple once it's defined. Tuples are good for storing information that shouldn't be changed throughout the life of a program. Tuples are designated by parentheses instead of square brackets. (You can overwrite an entire tuple, but you can't change the individual elements in a tuple.)"
   ]
  },
  {
   "cell_type": "code",
   "execution_count": 34,
   "metadata": {},
   "outputs": [
    {
     "name": "stdout",
     "output_type": "stream",
     "text": [
      "(800, 600)\n"
     ]
    }
   ],
   "source": [
    "# Defining a tuple\n",
    "dimensions = (800, 600)\n",
    "\n",
    "print(dimensions)"
   ]
  },
  {
   "cell_type": "code",
   "execution_count": 35,
   "metadata": {},
   "outputs": [
    {
     "name": "stdout",
     "output_type": "stream",
     "text": [
      "800\n",
      "600\n"
     ]
    }
   ],
   "source": [
    "# Looping through a tuple\n",
    "for dimension in dimensions:\n",
    "    print(dimension)"
   ]
  },
  {
   "cell_type": "code",
   "execution_count": 36,
   "metadata": {},
   "outputs": [
    {
     "name": "stdout",
     "output_type": "stream",
     "text": [
      "(800, 600)\n",
      "(1200, 900)\n"
     ]
    }
   ],
   "source": [
    "# Overwriting a tuple\n",
    "print(dimensions)\n",
    "\n",
    "dimensions = (1200, 900)\n",
    "print(dimensions)"
   ]
  },
  {
   "cell_type": "markdown",
   "metadata": {},
   "source": [
    "### Visualizing your code\n",
    "When you're first learning about data structures such as lists, it helps to visualize how Python is working with the information in your program. pythontutor.com is a great tool for seeing how Python keeps track of the information in a list. Try running the following code on pythontutor.com, and then run your own code."
   ]
  },
  {
   "cell_type": "code",
   "execution_count": 37,
   "metadata": {},
   "outputs": [
    {
     "name": "stdout",
     "output_type": "stream",
     "text": [
      "Hello willie!\n",
      "Hello hootz!\n",
      "Hello peso!\n",
      "Hello goblin!\n",
      "I love these dogs!\n",
      "\n",
      "These were my first two dogs:\n",
      "willie\n",
      "hootz\n",
      "['hootz', 'goblin']\n"
     ]
    }
   ],
   "source": [
    "# Build a list and print the items in the list\n",
    "dogs = []\n",
    "dogs.append('willie')\n",
    "dogs.append('hootz')\n",
    "dogs.append('peso')\n",
    "dogs.append('goblin')\n",
    "\n",
    "for dog in dogs:\n",
    "    print(\"Hello \" + dog + \"!\")\n",
    "print(\"I love these dogs!\")\n",
    "\n",
    "print(\"\\nThese were my first two dogs:\")\n",
    "old_dogs = dogs[:2]\n",
    "for old_dog in old_dogs:\n",
    "    print(old_dog)\n",
    "\n",
    "del dogs[0]\n",
    "dogs.remove('peso')\n",
    "print(dogs)"
   ]
  },
  {
   "cell_type": "markdown",
   "metadata": {},
   "source": [
    "### Styling your code\n",
    "Readability counts\n",
    "\n",
    "* Use four spaces per indentation level.\n",
    "* Keep your lines to 79 characters or fewer.\n",
    "* Use single blank lines to group parts of your program visually."
   ]
  },
  {
   "cell_type": "markdown",
   "metadata": {},
   "source": [
    "##### Notebook created by [Sujeevan Nagarajah](https://github.com/sujee81)"
   ]
  },
  {
   "cell_type": "code",
   "execution_count": null,
   "metadata": {
    "collapsed": true
   },
   "outputs": [],
   "source": []
  }
 ],
 "metadata": {
  "kernelspec": {
   "display_name": "Python 3",
   "language": "python",
   "name": "python3"
  },
  "language_info": {
   "codemirror_mode": {
    "name": "ipython",
    "version": 3
   },
   "file_extension": ".py",
   "mimetype": "text/x-python",
   "name": "python",
   "nbconvert_exporter": "python",
   "pygments_lexer": "ipython3",
   "version": "3.6.3"
  }
 },
 "nbformat": 4,
 "nbformat_minor": 2
}
